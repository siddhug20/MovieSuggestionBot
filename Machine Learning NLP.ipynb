{
 "cells": [
  {
   "cell_type": "code",
   "execution_count": 1,
   "id": "unsigned-whale",
   "metadata": {},
   "outputs": [
    {
     "data": {
      "text/html": [
       "<div>\n",
       "<style scoped>\n",
       "    .dataframe tbody tr th:only-of-type {\n",
       "        vertical-align: middle;\n",
       "    }\n",
       "\n",
       "    .dataframe tbody tr th {\n",
       "        vertical-align: top;\n",
       "    }\n",
       "\n",
       "    .dataframe thead th {\n",
       "        text-align: right;\n",
       "    }\n",
       "</style>\n",
       "<table border=\"1\" class=\"dataframe\">\n",
       "  <thead>\n",
       "    <tr style=\"text-align: right;\">\n",
       "      <th></th>\n",
       "      <th>genre_ids</th>\n",
       "      <th>id</th>\n",
       "      <th>original_language</th>\n",
       "      <th>overview</th>\n",
       "      <th>popularity</th>\n",
       "      <th>release_date</th>\n",
       "      <th>title</th>\n",
       "      <th>vote_average</th>\n",
       "      <th>vote_count</th>\n",
       "    </tr>\n",
       "  </thead>\n",
       "  <tbody>\n",
       "    <tr>\n",
       "      <th>0</th>\n",
       "      <td>[878, 28, 12]</td>\n",
       "      <td>580489</td>\n",
       "      <td>en</td>\n",
       "      <td>After finding a host body in investigative rep...</td>\n",
       "      <td>6972.003</td>\n",
       "      <td>2021-09-30</td>\n",
       "      <td>Venom: Let There Be Carnage</td>\n",
       "      <td>7.2</td>\n",
       "      <td>4500</td>\n",
       "    </tr>\n",
       "    <tr>\n",
       "      <th>1</th>\n",
       "      <td>[28, 35, 80, 53]</td>\n",
       "      <td>512195</td>\n",
       "      <td>en</td>\n",
       "      <td>An Interpol-issued Red Notice is a global aler...</td>\n",
       "      <td>4496.760</td>\n",
       "      <td>2021-11-04</td>\n",
       "      <td>Red Notice</td>\n",
       "      <td>6.8</td>\n",
       "      <td>2016</td>\n",
       "    </tr>\n",
       "    <tr>\n",
       "      <th>2</th>\n",
       "      <td>[28, 12, 878, 14]</td>\n",
       "      <td>634649</td>\n",
       "      <td>en</td>\n",
       "      <td>Peter Parker is unmasked and no longer able to...</td>\n",
       "      <td>4062.446</td>\n",
       "      <td>2021-12-15</td>\n",
       "      <td>Spider-Man: No Way Home</td>\n",
       "      <td>8.4</td>\n",
       "      <td>84</td>\n",
       "    </tr>\n",
       "    <tr>\n",
       "      <th>3</th>\n",
       "      <td>[16, 35, 10751]</td>\n",
       "      <td>585245</td>\n",
       "      <td>en</td>\n",
       "      <td>As Emily struggles to fit in at home and at sc...</td>\n",
       "      <td>2509.512</td>\n",
       "      <td>2021-11-10</td>\n",
       "      <td>Clifford the Big Red Dog</td>\n",
       "      <td>7.6</td>\n",
       "      <td>568</td>\n",
       "    </tr>\n",
       "    <tr>\n",
       "      <th>4</th>\n",
       "      <td>[28, 12, 14]</td>\n",
       "      <td>566525</td>\n",
       "      <td>en</td>\n",
       "      <td>Shang-Chi must confront the past he thought he...</td>\n",
       "      <td>2453.799</td>\n",
       "      <td>2021-09-01</td>\n",
       "      <td>Shang-Chi and the Legend of the Ten Rings</td>\n",
       "      <td>7.8</td>\n",
       "      <td>4244</td>\n",
       "    </tr>\n",
       "  </tbody>\n",
       "</table>\n",
       "</div>"
      ],
      "text/plain": [
       "           genre_ids      id original_language  \\\n",
       "0      [878, 28, 12]  580489                en   \n",
       "1   [28, 35, 80, 53]  512195                en   \n",
       "2  [28, 12, 878, 14]  634649                en   \n",
       "3    [16, 35, 10751]  585245                en   \n",
       "4       [28, 12, 14]  566525                en   \n",
       "\n",
       "                                            overview  popularity release_date  \\\n",
       "0  After finding a host body in investigative rep...    6972.003   2021-09-30   \n",
       "1  An Interpol-issued Red Notice is a global aler...    4496.760   2021-11-04   \n",
       "2  Peter Parker is unmasked and no longer able to...    4062.446   2021-12-15   \n",
       "3  As Emily struggles to fit in at home and at sc...    2509.512   2021-11-10   \n",
       "4  Shang-Chi must confront the past he thought he...    2453.799   2021-09-01   \n",
       "\n",
       "                                       title  vote_average  vote_count  \n",
       "0                Venom: Let There Be Carnage           7.2        4500  \n",
       "1                                 Red Notice           6.8        2016  \n",
       "2                    Spider-Man: No Way Home           8.4          84  \n",
       "3                   Clifford the Big Red Dog           7.6         568  \n",
       "4  Shang-Chi and the Legend of the Ten Rings           7.8        4244  "
      ]
     },
     "execution_count": 1,
     "metadata": {},
     "output_type": "execute_result"
    }
   ],
   "source": [
    "import pandas as pd\n",
    "\n",
    "movies_df =  pd.read_csv('movies_dataset.csv', lineterminator='\\n')\n",
    "movies_df.head()\n"
   ]
  },
  {
   "cell_type": "code",
   "execution_count": 3,
   "id": "behind-growth",
   "metadata": {},
   "outputs": [
    {
     "data": {
      "text/html": [
       "<div>\n",
       "<style scoped>\n",
       "    .dataframe tbody tr th:only-of-type {\n",
       "        vertical-align: middle;\n",
       "    }\n",
       "\n",
       "    .dataframe tbody tr th {\n",
       "        vertical-align: top;\n",
       "    }\n",
       "\n",
       "    .dataframe thead th {\n",
       "        text-align: right;\n",
       "    }\n",
       "</style>\n",
       "<table border=\"1\" class=\"dataframe\">\n",
       "  <thead>\n",
       "    <tr style=\"text-align: right;\">\n",
       "      <th></th>\n",
       "      <th>genre_ids</th>\n",
       "      <th>id</th>\n",
       "      <th>original_language</th>\n",
       "      <th>overview</th>\n",
       "      <th>popularity</th>\n",
       "      <th>release_date</th>\n",
       "      <th>title</th>\n",
       "      <th>vote_average</th>\n",
       "      <th>vote_count</th>\n",
       "    </tr>\n",
       "  </thead>\n",
       "  <tbody>\n",
       "    <tr>\n",
       "      <th>0</th>\n",
       "      <td>[878, 28, 12]</td>\n",
       "      <td>580489</td>\n",
       "      <td>en</td>\n",
       "      <td>After finding a host body in investigative rep...</td>\n",
       "      <td>6972.003</td>\n",
       "      <td>2021-09-30</td>\n",
       "      <td>Venom: Let There Be Carnage</td>\n",
       "      <td>7.2</td>\n",
       "      <td>4500</td>\n",
       "    </tr>\n",
       "    <tr>\n",
       "      <th>1</th>\n",
       "      <td>[28, 35, 80, 53]</td>\n",
       "      <td>512195</td>\n",
       "      <td>en</td>\n",
       "      <td>An Interpol-issued Red Notice is a global aler...</td>\n",
       "      <td>4496.760</td>\n",
       "      <td>2021-11-04</td>\n",
       "      <td>Red Notice</td>\n",
       "      <td>6.8</td>\n",
       "      <td>2016</td>\n",
       "    </tr>\n",
       "    <tr>\n",
       "      <th>2</th>\n",
       "      <td>[28, 12, 878, 14]</td>\n",
       "      <td>634649</td>\n",
       "      <td>en</td>\n",
       "      <td>Peter Parker is unmasked and no longer able to...</td>\n",
       "      <td>4062.446</td>\n",
       "      <td>2021-12-15</td>\n",
       "      <td>Spider-Man: No Way Home</td>\n",
       "      <td>8.4</td>\n",
       "      <td>84</td>\n",
       "    </tr>\n",
       "    <tr>\n",
       "      <th>3</th>\n",
       "      <td>[16, 35, 10751]</td>\n",
       "      <td>585245</td>\n",
       "      <td>en</td>\n",
       "      <td>As Emily struggles to fit in at home and at sc...</td>\n",
       "      <td>2509.512</td>\n",
       "      <td>2021-11-10</td>\n",
       "      <td>Clifford the Big Red Dog</td>\n",
       "      <td>7.6</td>\n",
       "      <td>568</td>\n",
       "    </tr>\n",
       "    <tr>\n",
       "      <th>4</th>\n",
       "      <td>[28, 12, 14]</td>\n",
       "      <td>566525</td>\n",
       "      <td>en</td>\n",
       "      <td>Shang-Chi must confront the past he thought he...</td>\n",
       "      <td>2453.799</td>\n",
       "      <td>2021-09-01</td>\n",
       "      <td>Shang-Chi and the Legend of the Ten Rings</td>\n",
       "      <td>7.8</td>\n",
       "      <td>4244</td>\n",
       "    </tr>\n",
       "  </tbody>\n",
       "</table>\n",
       "</div>"
      ],
      "text/plain": [
       "           genre_ids      id original_language  \\\n",
       "0      [878, 28, 12]  580489                en   \n",
       "1   [28, 35, 80, 53]  512195                en   \n",
       "2  [28, 12, 878, 14]  634649                en   \n",
       "3    [16, 35, 10751]  585245                en   \n",
       "4       [28, 12, 14]  566525                en   \n",
       "\n",
       "                                            overview  popularity release_date  \\\n",
       "0  After finding a host body in investigative rep...    6972.003   2021-09-30   \n",
       "1  An Interpol-issued Red Notice is a global aler...    4496.760   2021-11-04   \n",
       "2  Peter Parker is unmasked and no longer able to...    4062.446   2021-12-15   \n",
       "3  As Emily struggles to fit in at home and at sc...    2509.512   2021-11-10   \n",
       "4  Shang-Chi must confront the past he thought he...    2453.799   2021-09-01   \n",
       "\n",
       "                                       title  vote_average  vote_count  \n",
       "0                Venom: Let There Be Carnage           7.2        4500  \n",
       "1                                 Red Notice           6.8        2016  \n",
       "2                    Spider-Man: No Way Home           8.4          84  \n",
       "3                   Clifford the Big Red Dog           7.6         568  \n",
       "4  Shang-Chi and the Legend of the Ten Rings           7.8        4244  "
      ]
     },
     "execution_count": 3,
     "metadata": {},
     "output_type": "execute_result"
    }
   ],
   "source": [
    "\n",
    "\n",
    "try:\n",
    "    movies_df = pd.read_csv(file_path, delimiter=None, engine='python')\n",
    "except Exception as e:\n",
    "    error_message = str(e)\n",
    "\n",
    "if 'movies_df' in locals():\n",
    "    display_data = movies_df.head()\n",
    "else:\n",
    "    display_data = error_message\n",
    "\n",
    "display_data\n",
    "\n"
   ]
  },
  {
   "cell_type": "code",
   "execution_count": 4,
   "id": "medieval-triangle",
   "metadata": {},
   "outputs": [
    {
     "data": {
      "text/plain": [
       "['Venom', 'Spider-Man 3', 'Mr. Brooks', 'A Little Christmas Charm', 'Copycat']"
      ]
     },
     "execution_count": 4,
     "metadata": {},
     "output_type": "execute_result"
    }
   ],
   "source": [
    "from sklearn.feature_extraction.text import TfidfVectorizer\n",
    "from sklearn.metrics.pairwise import linear_kernel\n",
    "import numpy as np\n",
    "\n",
    "\n",
    "movies_df = movies_df.dropna(subset=['overview'])\n",
    "\n",
    "tfidf_vectorizer = TfidfVectorizer(stop_words='english')\n",
    "tfidf_matrix = tfidf_vectorizer.fit_transform(movies_df['overview'])\n",
    "\n",
    "\n",
    "cosine_similarities = linear_kernel(tfidf_matrix, tfidf_matrix)\n",
    "\n",
    "def get_movie_suggestions(title, number_of_suggestions=5):\n",
    "    # Find the index of the movie that matches the title\n",
    "    idx = movies_df.index[movies_df['title'] == title].tolist()\n",
    "    if not idx:\n",
    "        return f\"No movie found with title '{title}'.\"\n",
    "\n",
    "    sim_scores = list(enumerate(cosine_similarities[idx[0]]))\n",
    "\n",
    "    sim_scores = sorted(sim_scores, key=lambda x: x[1], reverse=True)\n",
    "\n",
    "    sim_scores = sim_scores[1:number_of_suggestions + 1]\n",
    "\n",
    "    movie_indices = [i[0] for i in sim_scores]\n",
    "\n",
    "    return movies_df['title'].iloc[movie_indices].tolist()\n",
    "\n",
    "test_movie = \"Venom: Let There Be Carnage\"\n",
    "suggestions = get_movie_suggestions(test_movie, 5)\n",
    "suggestions\n",
    "\n"
   ]
  },
  {
   "cell_type": "code",
   "execution_count": 5,
   "id": "liked-humanity",
   "metadata": {},
   "outputs": [
    {
     "data": {
      "application/vnd.jupyter.widget-view+json": {
       "model_id": "b712c1df59e5445bbd6cfae974cce2cd",
       "version_major": 2,
       "version_minor": 0
      },
      "text/plain": [
       "Text(value='Toy Story', description='Movie Title:', placeholder='Type a movie title...')"
      ]
     },
     "metadata": {},
     "output_type": "display_data"
    },
    {
     "data": {
      "application/vnd.jupyter.widget-view+json": {
       "model_id": "37cfedb8fd444a8ea0048390a76a0272",
       "version_major": 2,
       "version_minor": 0
      },
      "text/plain": [
       "Output()"
      ]
     },
     "metadata": {},
     "output_type": "display_data"
    }
   ],
   "source": [
    "import ipywidgets as widgets\n",
    "from IPython.display import display\n",
    "\n",
    "movie_input = widgets.Text(\n",
    "    value=\"Toy Story\",\n",
    "    description=\"Movie Title:\",\n",
    "    placeholder='Type a movie title...'\n",
    ")\n",
    "movie_list = widgets.Output()\n",
    "\n",
    "def on_type(data):\n",
    "    with movie_list:\n",
    "        movie_list.clear_output()\n",
    "        title = data['new']\n",
    "        if len(title) >= 5:\n",
    "            suggestions = get_movie_suggestions(title, 5)\n",
    "            if isinstance(suggestions, list):\n",
    "                for suggestion in suggestions:\n",
    "                    print(suggestion)\n",
    "            else:\n",
    "                print(suggestions)\n",
    "\n",
    "movie_input.observe(on_type, names='value')\n",
    "\n",
    "# Display the widget\n",
    "display(movie_input, movie_list)\n"
   ]
  },
  {
   "cell_type": "code",
   "execution_count": null,
   "id": "confused-distributor",
   "metadata": {},
   "outputs": [],
   "source": []
  },
  {
   "cell_type": "code",
   "execution_count": 12,
   "id": "affiliated-albany",
   "metadata": {},
   "outputs": [
    {
     "data": {
      "text/plain": [
       "['Venom', 'Spider-Man 3', 'Mr. Brooks', 'A Little Christmas Charm', 'Copycat']"
      ]
     },
     "execution_count": 12,
     "metadata": {},
     "output_type": "execute_result"
    }
   ],
   "source": [
    "from sklearn.preprocessing import MinMaxScaler\n",
    "\n",
    "# Normalizing the vote_average column\n",
    "scaler = MinMaxScaler()\n",
    "movies_df['normalized_vote_average'] = scaler.fit_transform(movies_df[['vote_average']])\n",
    "\n",
    "def get_movie_suggestions_with_ratings(title, similarity_weight=0.8, rating_weight=0.2, number_of_suggestions=5):\n",
    "    idx = movies_df.index[movies_df['title'] == title].tolist()\n",
    "    if not idx:\n",
    "        return f\"No movie found with title '{title}'.\"\n",
    "\n",
    "    sim_scores = list(enumerate(cosine_similarities[idx[0]]))\n",
    "\n",
    "    for i in range(len(sim_scores)):\n",
    "        sim_scores[i] = (sim_scores[i][0], \n",
    "                         similarity_weight * sim_scores[i][1] + \n",
    "                         rating_weight * movies_df.iloc[sim_scores[i][0]]['normalized_vote_average'])\n",
    "\n",
    "    # Sort the movies based on the combined scores\n",
    "    sim_scores = sorted(sim_scores, key=lambda x: x[1], reverse=True)\n",
    "\n",
    "    # Get the scores of the most similar movies\n",
    "    sim_scores = sim_scores[1:number_of_suggestions + 1]\n",
    "\n",
    "    movie_indices = [i[0] for i in sim_scores]\n",
    "\n",
    "    return movies_df['title'].iloc[movie_indices].tolist()\n",
    "\n",
    "# Testing the function with a sample movie\n",
    "test_movie = \"Venom: Let There Be Carnage\"\n",
    "suggestions_with_ratings = get_movie_suggestions_with_ratings(test_movie, 5)\n",
    "suggestions_with_ratings\n",
    "\n"
   ]
  },
  {
   "cell_type": "code",
   "execution_count": 13,
   "id": "desirable-pierre",
   "metadata": {},
   "outputs": [
    {
     "data": {
      "text/plain": [
       "['Venom', 'Spider-Man 3', 'Mr. Brooks', 'A Little Christmas Charm', 'Copycat']"
      ]
     },
     "execution_count": 13,
     "metadata": {},
     "output_type": "execute_result"
    }
   ],
   "source": [
    "import pandas as pd\n",
    "from sklearn.feature_extraction.text import TfidfVectorizer\n",
    "from sklearn.metrics.pairwise import linear_kernel\n",
    "from sklearn.preprocessing import MinMaxScaler\n",
    "\n",
    "\n",
    "\n",
    "# Preprocess the data: remove rows where overview is NaN\n",
    "movies_df = movies_df.dropna(subset=['overview'])\n",
    "\n",
    "# Feature Extraction using TF-IDF on the 'overview' column\n",
    "tfidf_vectorizer = TfidfVectorizer(stop_words='english')\n",
    "tfidf_matrix = tfidf_vectorizer.fit_transform(movies_df['overview'])\n",
    "\n",
    "# Calculate cosine similarities\n",
    "cosine_similarities = linear_kernel(tfidf_matrix, tfidf_matrix)\n",
    "\n",
    "scaler = MinMaxScaler()\n",
    "movies_df['normalized_vote_average'] = scaler.fit_transform(movies_df[['vote_average']])\n",
    "\n",
    "def get_movie_suggestions_with_ratings(title, similarity_weight=0.8, rating_weight=0.2, number_of_suggestions=5):\n",
    "    # Find the index of the movie that matches the title\n",
    "    idx = movies_df.index[movies_df['title'] == title].tolist()\n",
    "    if not idx:\n",
    "        return f\"No movie found with title '{title}'.\"\n",
    "\n",
    "    sim_scores = list(enumerate(cosine_similarities[idx[0]]))\n",
    "\n",
    "    for i in range(len(sim_scores)):\n",
    "        sim_scores[i] = (sim_scores[i][0], \n",
    "                         similarity_weight * sim_scores[i][1] + \n",
    "                         rating_weight * movies_df.iloc[sim_scores[i][0]]['normalized_vote_average'])\n",
    "\n",
    "    sim_scores = sorted(sim_scores, key=lambda x: x[1], reverse=True)\n",
    "\n",
    "    sim_scores = sim_scores[1:number_of_suggestions + 1]\n",
    "\n",
    "    movie_indices = [i[0] for i in sim_scores]\n",
    "\n",
    "    return movies_df['title'].iloc[movie_indices].tolist()\n",
    "\n",
    "test_movie = \"Venom: Let There Be Carnage\"\n",
    "suggestions_with_ratings = get_movie_suggestions_with_ratings(test_movie, 5)\n",
    "suggestions_with_ratings\n",
    "\n"
   ]
  },
  {
   "cell_type": "code",
   "execution_count": 7,
   "id": "third-projection",
   "metadata": {},
   "outputs": [
    {
     "name": "stdout",
     "output_type": "stream",
     "text": [
      "Collecting sentence-transformers\n",
      "  Downloading sentence-transformers-2.2.2.tar.gz (85 kB)\n",
      "     ---------------------------------------- 86.0/86.0 kB 1.2 MB/s eta 0:00:00\n",
      "  Preparing metadata (setup.py): started\n",
      "  Preparing metadata (setup.py): finished with status 'done'\n",
      "Requirement already satisfied: transformers<5.0.0,>=4.6.0 in c:\\users\\prana\\anaconda3\\lib\\site-packages (from sentence-transformers) (4.34.1)\n",
      "Requirement already satisfied: tqdm in c:\\users\\prana\\anaconda3\\lib\\site-packages (from sentence-transformers) (4.55.1)\n",
      "Requirement already satisfied: torch>=1.6.0 in c:\\users\\prana\\anaconda3\\lib\\site-packages (from sentence-transformers) (2.1.0+cu118)\n",
      "Requirement already satisfied: torchvision in c:\\users\\prana\\anaconda3\\lib\\site-packages (from sentence-transformers) (0.16.0+cu118)\n",
      "Requirement already satisfied: numpy in c:\\users\\prana\\anaconda3\\lib\\site-packages (from sentence-transformers) (1.21.0)\n",
      "Requirement already satisfied: scikit-learn in c:\\users\\prana\\anaconda3\\lib\\site-packages (from sentence-transformers) (0.23.2)\n",
      "Requirement already satisfied: scipy in c:\\users\\prana\\anaconda3\\lib\\site-packages (from sentence-transformers) (1.5.2)\n",
      "Requirement already satisfied: nltk in c:\\users\\prana\\anaconda3\\lib\\site-packages (from sentence-transformers) (3.5)\n",
      "Requirement already satisfied: sentencepiece in c:\\users\\prana\\anaconda3\\lib\\site-packages (from sentence-transformers) (0.1.99)\n",
      "Requirement already satisfied: huggingface-hub>=0.4.0 in c:\\users\\prana\\anaconda3\\lib\\site-packages (from sentence-transformers) (0.17.3)\n",
      "Requirement already satisfied: filelock in c:\\users\\prana\\anaconda3\\lib\\site-packages (from huggingface-hub>=0.4.0->sentence-transformers) (3.0.12)\n",
      "Requirement already satisfied: fsspec in c:\\users\\prana\\anaconda3\\lib\\site-packages (from huggingface-hub>=0.4.0->sentence-transformers) (2023.9.2)\n",
      "Requirement already satisfied: requests in c:\\users\\prana\\anaconda3\\lib\\site-packages (from huggingface-hub>=0.4.0->sentence-transformers) (2.25.1)\n",
      "Requirement already satisfied: pyyaml>=5.1 in c:\\users\\prana\\anaconda3\\lib\\site-packages (from huggingface-hub>=0.4.0->sentence-transformers) (5.4.1)\n",
      "Requirement already satisfied: typing-extensions>=3.7.4.3 in c:\\users\\prana\\anaconda3\\lib\\site-packages (from huggingface-hub>=0.4.0->sentence-transformers) (4.5.0)\n",
      "Requirement already satisfied: packaging>=20.9 in c:\\users\\prana\\anaconda3\\lib\\site-packages (from huggingface-hub>=0.4.0->sentence-transformers) (23.2)\n",
      "Requirement already satisfied: sympy in c:\\users\\prana\\anaconda3\\lib\\site-packages (from torch>=1.6.0->sentence-transformers) (1.7.1)\n",
      "Requirement already satisfied: networkx in c:\\users\\prana\\anaconda3\\lib\\site-packages (from torch>=1.6.0->sentence-transformers) (2.5)\n",
      "Requirement already satisfied: jinja2 in c:\\users\\prana\\anaconda3\\lib\\site-packages (from torch>=1.6.0->sentence-transformers) (2.11.2)\n",
      "Requirement already satisfied: regex!=2019.12.17 in c:\\users\\prana\\anaconda3\\lib\\site-packages (from transformers<5.0.0,>=4.6.0->sentence-transformers) (2020.11.13)\n",
      "Requirement already satisfied: tokenizers<0.15,>=0.14 in c:\\users\\prana\\anaconda3\\lib\\site-packages (from transformers<5.0.0,>=4.6.0->sentence-transformers) (0.14.1)\n",
      "Requirement already satisfied: safetensors>=0.3.1 in c:\\users\\prana\\anaconda3\\lib\\site-packages (from transformers<5.0.0,>=4.6.0->sentence-transformers) (0.4.0)\n",
      "Requirement already satisfied: click in c:\\users\\prana\\anaconda3\\lib\\site-packages (from nltk->sentence-transformers) (7.1.2)\n",
      "Requirement already satisfied: joblib in c:\\users\\prana\\anaconda3\\lib\\site-packages (from nltk->sentence-transformers) (1.0.0)\n",
      "Requirement already satisfied: threadpoolctl>=2.0.0 in c:\\users\\prana\\anaconda3\\lib\\site-packages (from scikit-learn->sentence-transformers) (2.1.0)\n",
      "Requirement already satisfied: pillow!=8.3.*,>=5.3.0 in c:\\users\\prana\\anaconda3\\lib\\site-packages (from torchvision->sentence-transformers) (10.1.0)\n",
      "Requirement already satisfied: MarkupSafe>=0.23 in c:\\users\\prana\\anaconda3\\lib\\site-packages (from jinja2->torch>=1.6.0->sentence-transformers) (1.1.1)\n",
      "Requirement already satisfied: decorator>=4.3.0 in c:\\users\\prana\\anaconda3\\lib\\site-packages (from networkx->torch>=1.6.0->sentence-transformers) (4.4.2)\n",
      "Requirement already satisfied: chardet<5,>=3.0.2 in c:\\users\\prana\\anaconda3\\lib\\site-packages (from requests->huggingface-hub>=0.4.0->sentence-transformers) (4.0.0)\n",
      "Requirement already satisfied: idna<3,>=2.5 in c:\\users\\prana\\anaconda3\\lib\\site-packages (from requests->huggingface-hub>=0.4.0->sentence-transformers) (2.10)\n",
      "Requirement already satisfied: urllib3<1.27,>=1.21.1 in c:\\users\\prana\\anaconda3\\lib\\site-packages (from requests->huggingface-hub>=0.4.0->sentence-transformers) (1.26.2)\n",
      "Requirement already satisfied: certifi>=2017.4.17 in c:\\users\\prana\\anaconda3\\lib\\site-packages (from requests->huggingface-hub>=0.4.0->sentence-transformers) (2023.7.22)\n",
      "Requirement already satisfied: mpmath>=0.19 in c:\\users\\prana\\anaconda3\\lib\\site-packages (from sympy->torch>=1.6.0->sentence-transformers) (1.1.0)\n",
      "Building wheels for collected packages: sentence-transformers\n",
      "  Building wheel for sentence-transformers (setup.py): started\n",
      "  Building wheel for sentence-transformers (setup.py): finished with status 'done'\n",
      "  Created wheel for sentence-transformers: filename=sentence_transformers-2.2.2-py3-none-any.whl size=125918 sha256=c5367d3eeb67b89eee242b31fae3afd34cc6b69f1d571bffd1d00764c51b81af\n",
      "  Stored in directory: c:\\users\\prana\\appdata\\local\\pip\\cache\\wheels\\5e\\6f\\8c\\d88aec621f3f542d26fac0342bef5e693335d125f4e54aeffe\n",
      "Successfully built sentence-transformers\n",
      "Installing collected packages: sentence-transformers\n",
      "Successfully installed sentence-transformers-2.2.2\n",
      "Note: you may need to restart the kernel to use updated packages.\n"
     ]
    },
    {
     "name": "stderr",
     "output_type": "stream",
     "text": [
      "DEPRECATION: pyodbc 4.0.0-unsupported has a non-standard version number. pip 24.0 will enforce this behaviour change. A possible replacement is to upgrade to a newer version of pyodbc or contact the author to suggest that they release a version with a conforming version number. Discussion can be found at https://github.com/pypa/pip/issues/12063\n",
      "WARNING: There was an error checking the latest version of pip.\n"
     ]
    }
   ],
   "source": [
    "pip install sentence-transformers"
   ]
  },
  {
   "cell_type": "code",
   "execution_count": 8,
   "id": "recreational-purse",
   "metadata": {},
   "outputs": [
    {
     "data": {
      "application/vnd.jupyter.widget-view+json": {
       "model_id": "64f92ddaa1384ff08c0bff4483a9bcfe",
       "version_major": 2,
       "version_minor": 0
      },
      "text/plain": [
       "Downloading .gitattributes:   0%|          | 0.00/491 [00:00<?, ?B/s]"
      ]
     },
     "metadata": {},
     "output_type": "display_data"
    },
    {
     "data": {
      "application/vnd.jupyter.widget-view+json": {
       "model_id": "14ad35555cdd454788983c61f7599ee5",
       "version_major": 2,
       "version_minor": 0
      },
      "text/plain": [
       "Downloading LICENSE:   0%|          | 0.00/11.4k [00:00<?, ?B/s]"
      ]
     },
     "metadata": {},
     "output_type": "display_data"
    },
    {
     "data": {
      "application/vnd.jupyter.widget-view+json": {
       "model_id": "8bb7c4f33f55431ebab79a842930cbf5",
       "version_major": 2,
       "version_minor": 0
      },
      "text/plain": [
       "Downloading README.md:   0%|          | 0.00/10.5k [00:00<?, ?B/s]"
      ]
     },
     "metadata": {},
     "output_type": "display_data"
    },
    {
     "data": {
      "application/vnd.jupyter.widget-view+json": {
       "model_id": "d167a85c42fc4a20b8463777964f2244",
       "version_major": 2,
       "version_minor": 0
      },
      "text/plain": [
       "Downloading config.json:   0%|          | 0.00/570 [00:00<?, ?B/s]"
      ]
     },
     "metadata": {},
     "output_type": "display_data"
    },
    {
     "data": {
      "application/vnd.jupyter.widget-view+json": {
       "model_id": "d7269a19621f4b33aae1378af44a125d",
       "version_major": 2,
       "version_minor": 0
      },
      "text/plain": [
       "Downloading (…)CoreML/model.mlmodel:   0%|          | 0.00/165k [00:00<?, ?B/s]"
      ]
     },
     "metadata": {},
     "output_type": "display_data"
    },
    {
     "data": {
      "application/vnd.jupyter.widget-view+json": {
       "model_id": "15bdcff9b6704922bd446acce60cd411",
       "version_major": 2,
       "version_minor": 0
      },
      "text/plain": [
       "Downloading weight.bin:   0%|          | 0.00/532M [00:00<?, ?B/s]"
      ]
     },
     "metadata": {},
     "output_type": "display_data"
    },
    {
     "data": {
      "application/vnd.jupyter.widget-view+json": {
       "model_id": "d9badc57be7a434fadcc878489d84c2b",
       "version_major": 2,
       "version_minor": 0
      },
      "text/plain": [
       "Downloading (…)ackage/Manifest.json:   0%|          | 0.00/617 [00:00<?, ?B/s]"
      ]
     },
     "metadata": {},
     "output_type": "display_data"
    },
    {
     "data": {
      "application/vnd.jupyter.widget-view+json": {
       "model_id": "794849aef80a4a2fa1288ec84095bb3c",
       "version_major": 2,
       "version_minor": 0
      },
      "text/plain": [
       "Downloading model.onnx:   0%|          | 0.00/532M [00:00<?, ?B/s]"
      ]
     },
     "metadata": {},
     "output_type": "display_data"
    },
    {
     "data": {
      "application/vnd.jupyter.widget-view+json": {
       "model_id": "ddd3d34dca6b4070a4277f46652ed878",
       "version_major": 2,
       "version_minor": 0
      },
      "text/plain": [
       "Downloading model.safetensors:   0%|          | 0.00/440M [00:00<?, ?B/s]"
      ]
     },
     "metadata": {},
     "output_type": "display_data"
    },
    {
     "data": {
      "application/vnd.jupyter.widget-view+json": {
       "model_id": "8d364e97db7e4b3b9f40cf8db6815104",
       "version_major": 2,
       "version_minor": 0
      },
      "text/plain": [
       "Downloading pytorch_model.bin:   0%|          | 0.00/440M [00:00<?, ?B/s]"
      ]
     },
     "metadata": {},
     "output_type": "display_data"
    },
    {
     "data": {
      "application/vnd.jupyter.widget-view+json": {
       "model_id": "5689cd67aefd4ad4b240bfa95c23f0c6",
       "version_major": 2,
       "version_minor": 0
      },
      "text/plain": [
       "Downloading tokenizer.json:   0%|          | 0.00/466k [00:00<?, ?B/s]"
      ]
     },
     "metadata": {},
     "output_type": "display_data"
    },
    {
     "data": {
      "application/vnd.jupyter.widget-view+json": {
       "model_id": "d705dc59894c40968b2a482e344bb8c1",
       "version_major": 2,
       "version_minor": 0
      },
      "text/plain": [
       "Downloading tokenizer_config.json:   0%|          | 0.00/28.0 [00:00<?, ?B/s]"
      ]
     },
     "metadata": {},
     "output_type": "display_data"
    },
    {
     "data": {
      "application/vnd.jupyter.widget-view+json": {
       "model_id": "dc67e752465149f5863671b92b370b2b",
       "version_major": 2,
       "version_minor": 0
      },
      "text/plain": [
       "Downloading vocab.txt:   0%|          | 0.00/232k [00:00<?, ?B/s]"
      ]
     },
     "metadata": {},
     "output_type": "display_data"
    },
    {
     "name": "stderr",
     "output_type": "stream",
     "text": [
      "No sentence-transformers model found with name C:\\Users\\prana/.cache\\torch\\sentence_transformers\\bert-base-uncased. Creating a new one with MEAN pooling.\n",
      "<ipython-input-8-7969e60e4aa6>:30: SettingWithCopyWarning: \n",
      "A value is trying to be set on a copy of a slice from a DataFrame.\n",
      "Try using .loc[row_indexer,col_indexer] = value instead\n",
      "\n",
      "See the caveats in the documentation: https://pandas.pydata.org/pandas-docs/stable/user_guide/indexing.html#returning-a-view-versus-a-copy\n",
      "  subset_movies_df['clusters_bert'] = clusters_bert\n"
     ]
    },
    {
     "data": {
      "image/png": "[encoded data removed]",
      "text/plain": [
       "<Figure size 576x432 with 1 Axes>"
      ]
     },
     "metadata": {
      "needs_background": "light"
     },
     "output_type": "display_data"
    },
    {
     "data": {
      "text/html": [
       "<div>\n",
       "<style scoped>\n",
       "    .dataframe tbody tr th:only-of-type {\n",
       "        vertical-align: middle;\n",
       "    }\n",
       "\n",
       "    .dataframe tbody tr th {\n",
       "        vertical-align: top;\n",
       "    }\n",
       "\n",
       "    .dataframe thead th {\n",
       "        text-align: right;\n",
       "    }\n",
       "</style>\n",
       "<table border=\"1\" class=\"dataframe\">\n",
       "  <thead>\n",
       "    <tr style=\"text-align: right;\">\n",
       "      <th></th>\n",
       "      <th>title</th>\n",
       "      <th>clusters_bert</th>\n",
       "    </tr>\n",
       "  </thead>\n",
       "  <tbody>\n",
       "    <tr>\n",
       "      <th>0</th>\n",
       "      <td>Venom: Let There Be Carnage</td>\n",
       "      <td>0</td>\n",
       "    </tr>\n",
       "    <tr>\n",
       "      <th>1</th>\n",
       "      <td>Red Notice</td>\n",
       "      <td>5</td>\n",
       "    </tr>\n",
       "    <tr>\n",
       "      <th>2</th>\n",
       "      <td>Spider-Man: No Way Home</td>\n",
       "      <td>0</td>\n",
       "    </tr>\n",
       "    <tr>\n",
       "      <th>3</th>\n",
       "      <td>Clifford the Big Red Dog</td>\n",
       "      <td>6</td>\n",
       "    </tr>\n",
       "    <tr>\n",
       "      <th>4</th>\n",
       "      <td>Shang-Chi and the Legend of the Ten Rings</td>\n",
       "      <td>3</td>\n",
       "    </tr>\n",
       "  </tbody>\n",
       "</table>\n",
       "</div>"
      ],
      "text/plain": [
       "                                       title  clusters_bert\n",
       "0                Venom: Let There Be Carnage              0\n",
       "1                                 Red Notice              5\n",
       "2                    Spider-Man: No Way Home              0\n",
       "3                   Clifford the Big Red Dog              6\n",
       "4  Shang-Chi and the Legend of the Ten Rings              3"
      ]
     },
     "execution_count": 8,
     "metadata": {},
     "output_type": "execute_result"
    }
   ],
   "source": [
    "import pandas as pd\n",
    "from sentence_transformers import SentenceTransformer\n",
    "from sklearn.manifold import TSNE\n",
    "from sklearn.mixture import GaussianMixture\n",
    "import matplotlib.pyplot as plt\n",
    "import matplotlib.colors as mcolors\n",
    "import numpy as np\n",
    "\n",
    "\n",
    "subset_movies_df = movies_df.head(100)  # Using the first 100 entries\n",
    "\n",
    "model = SentenceTransformer('bert-base-uncased')\n",
    "embeddings = model.encode(subset_movies_df['overview'].tolist())  # Using the 'overview' column\n",
    "\n",
    "np.random.seed(1000)\n",
    "\n",
    "tsne = TSNE(n_components=2, perplexity=40, random_state=1000)\n",
    "Y = tsne.fit_transform(embeddings)\n",
    "\n",
    "gmm = GaussianMixture(n_components=10, random_state=1000)\n",
    "clusters_bert = gmm.fit_predict(Y)\n",
    "\n",
    "subset_movies_df['clusters_bert'] = clusters_bert\n",
    "\n",
    "colors = list(mcolors.TABLEAU_COLORS.values())[:max(clusters_bert)+1]  # ensuring enough colors\n",
    "cols = [colors[cluster] for cluster in clusters_bert]\n",
    "\n",
    "plt.figure(figsize=(8, 6))\n",
    "for i, color in enumerate(colors):\n",
    "    plt.scatter(Y[clusters_bert == i, 0], Y[clusters_bert == i, 1], c=color, label=f\"Cluster {i+1}\", alpha=0.5)\n",
    "plt.xlabel(\"Dimension 1\")\n",
    "plt.ylabel(\"Dimension 2\")\n",
    "plt.title(\"t-SNE 2-Dimensional Reduction Model Bert\")\n",
    "plt.legend()\n",
    "plt.show()\n",
    "\n",
    "subset_movies_df[['title', 'clusters_bert']].head()\n"
   ]
  },
  {
   "cell_type": "code",
   "execution_count": 18,
   "id": "voluntary-green",
   "metadata": {},
   "outputs": [
    {
     "data": {
      "image/png": "[encoded data removed]",
      "text/plain": [
       "<Figure size 864x648 with 1 Axes>"
      ]
     },
     "metadata": {
      "needs_background": "light"
     },
     "output_type": "display_data"
    }
   ],
   "source": [
    "plt.figure(figsize=(12, 9))  # Increased plot size\n",
    "for i, color in enumerate(colors):\n",
    "    plt.scatter(Y[clusters_bert == i, 0], Y[clusters_bert == i, 1], c=color, label=f\"Cluster {i+1}\", alpha=0.5)\n",
    "    for j, txt in enumerate(subset_movies_df['title']):\n",
    "        if clusters_bert[j] == i:  # Annotate only points in the current cluster\n",
    "            plt.annotate(txt, (Y[j, 0], Y[j, 1]), fontsize=8, alpha=0.7, ha='right')  # Reduced font size and adjusted alignment\n",
    "\n",
    "plt.xlabel(\"Dimension 1\")\n",
    "plt.ylabel(\"Dimension 2\")\n",
    "plt.title(\"t-SNE 2-Dimensional Reduction Model Bert\")\n",
    "plt.legend()\n",
    "plt.show()\n"
   ]
  },
  {
   "cell_type": "code",
   "execution_count": 17,
   "id": "french-savage",
   "metadata": {},
   "outputs": [
    {
     "data": {
      "application/vnd.jupyter.widget-view+json": {
       "model_id": "a37650e8ea864def8313c4808031b42d",
       "version_major": 2,
       "version_minor": 0
      },
      "text/plain": [
       "IntSlider(value=0, description='Cluster:', max=9)"
      ]
     },
     "metadata": {},
     "output_type": "display_data"
    },
    {
     "data": {
      "application/vnd.jupyter.widget-view+json": {
       "model_id": "72149823195d43e7b67ccf1dd04318b5",
       "version_major": 2,
       "version_minor": 0
      },
      "text/plain": [
       "Output()"
      ]
     },
     "metadata": {},
     "output_type": "display_data"
    }
   ],
   "source": [
    "import ipywidgets as widgets\n",
    "from IPython.display import display\n",
    "\n",
    "# Widget setup\n",
    "cluster_input = widgets.IntSlider(\n",
    "    min=0,\n",
    "    max=max(subset_movies_df['clusters_bert']),\n",
    "    value=0,\n",
    "    description=\"Cluster:\"\n",
    ")\n",
    "suggestions_list = widgets.Output()\n",
    "\n",
    "def on_cluster_change(data):\n",
    "    with suggestions_list:\n",
    "        suggestions_list.clear_output()\n",
    "        cluster = data['new']\n",
    "        cluster_movies = subset_movies_df[subset_movies_df['clusters_bert'] == cluster]\n",
    "        if len(cluster_movies) >= 1:\n",
    "            for movie_title in cluster_movies['title']:\n",
    "                print(movie_title)\n",
    "        else:\n",
    "            print(f\"No movies found in Cluster {cluster}.\")\n",
    "\n",
    "cluster_input.observe(on_cluster_change, names='value')\n",
    "\n",
    "# Display the widget\n",
    "display(cluster_input, suggestions_list)"
   ]
  },
  {
   "cell_type": "code",
   "execution_count": 19,
   "id": "extended-denver",
   "metadata": {},
   "outputs": [
    {
     "name": "stderr",
     "output_type": "stream",
     "text": [
      "No sentence-transformers model found with name C:\\Users\\prana/.cache\\torch\\sentence_transformers\\bert-base-uncased. Creating a new one with MEAN pooling.\n"
     ]
    }
   ],
   "source": [
    "import pandas as pd\n",
    "from sklearn.feature_extraction.text import TfidfVectorizer\n",
    "from sklearn.metrics.pairwise import linear_kernel\n",
    "from sklearn.preprocessing import MinMaxScaler\n",
    "from sentence_transformers import SentenceTransformer\n",
    "from sklearn.manifold import TSNE\n",
    "from sklearn.mixture import GaussianMixture\n",
    "import numpy as np\n",
    "import matplotlib.pyplot as plt\n",
    "import matplotlib.colors as mcolors\n",
    "\n",
    "\n",
    "movies_df = movies_df.dropna(subset=['overview'])\n",
    "scaler = MinMaxScaler()\n",
    "movies_df['normalized_vote_average'] = scaler.fit_transform(movies_df[['vote_average']])\n",
    "# TF-IDF\n",
    "tfidf_vectorizer = TfidfVectorizer(stop_words='english')\n",
    "tfidf_matrix = tfidf_vectorizer.fit_transform(movies_df['overview'])\n",
    "\n",
    "# BERT\n",
    "model = SentenceTransformer('bert-base-uncased')\n",
    "bert_embeddings = model.encode(movies_df['overview'].tolist())\n",
    "np.random.seed(1000)\n",
    "tsne = TSNE(n_components=2, perplexity=40, random_state=1000)\n",
    "Y = tsne.fit_transform(bert_embeddings)\n",
    "gmm = GaussianMixture(n_components=10, random_state=1000)\n",
    "clusters_bert = gmm.fit_predict(Y)\n",
    "movies_df['clusters_bert'] = clusters_bert\n",
    "cosine_similarities = linear_kernel(tfidf_matrix, tfidf_matrix)\n",
    "\n",
    "def get_movie_suggestions_with_ratings(title, similarity_weight=0.8, rating_weight=0.1, cluster_weight=0.1, number_of_suggestions=5):\n",
    "    if title not in movies_df['title'].values:\n",
    "        return f\"No movie found with title '{title}'.\"\n",
    "\n",
    "    idx = movies_df.index[movies_df['title'] == title].tolist()[0]\n",
    "\n",
    "    movie_cluster = movies_df.at[idx, 'clusters_bert']\n",
    "\n",
    "    sim_scores = list(enumerate(cosine_similarities[idx]))\n",
    "\n",
    "    for i in range(len(sim_scores)):\n",
    "        movie_idx = sim_scores[i][0]\n",
    "        similarity_score = similarity_weight * sim_scores[i][1]\n",
    "        rating_score = rating_weight * movies_df.iloc[movie_idx]['normalized_vote_average']\n",
    "        if movies_df.iloc[movie_idx]['clusters_bert'] == movie_cluster:\n",
    "            cluster_score = cluster_weight\n",
    "        else:\n",
    "            cluster_score = 0\n",
    "        sim_scores[i] = (movie_idx, similarity_score + rating_score + cluster_score)\n",
    "\n",
    "    sim_scores = sorted(sim_scores, key=lambda x: x[1], reverse=True)\n",
    "\n",
    "    movie_indices = [i[0] for i in sim_scores[1:number_of_suggestions + 1]]\n",
    "\n",
    "    return movies_df['title'].iloc[movie_indices].tolist()\n"
   ]
  },
  {
   "cell_type": "code",
   "execution_count": 21,
   "id": "french-reaction",
   "metadata": {},
   "outputs": [
    {
     "name": "stdout",
     "output_type": "stream",
     "text": [
      "['Toy Story 3', 'Toy Story 2', 'Toy Story 4', 'Small Fry', 'Buzz Lightyear of Star Command: The Adventure Begins']\n"
     ]
    }
   ],
   "source": [
    "test_movie = \"Toy Story\"\n",
    "suggestions = get_movie_suggestions_with_ratings(test_movie, number_of_suggestions=5)\n",
    "print(suggestions)"
   ]
  },
  {
   "cell_type": "code",
   "execution_count": 23,
   "id": "civic-swing",
   "metadata": {},
   "outputs": [
    {
     "data": {
      "application/vnd.jupyter.widget-view+json": {
       "model_id": "a88022ca9f4d4f91803e733de8a377f0",
       "version_major": 2,
       "version_minor": 0
      },
      "text/plain": [
       "Text(value='', description='Enter Movie Title:', placeholder='Type here to search for movies...')"
      ]
     },
     "metadata": {},
     "output_type": "display_data"
    },
    {
     "data": {
      "application/vnd.jupyter.widget-view+json": {
       "model_id": "58cce77bdd2d4822b4e4e9ac98bb74be",
       "version_major": 2,
       "version_minor": 0
      },
      "text/plain": [
       "Output()"
      ]
     },
     "metadata": {},
     "output_type": "display_data"
    }
   ],
   "source": [
    "import ipywidgets as widgets\n",
    "from IPython.display import display\n",
    "\n",
    "# Create a text input widget for entering movie titles\n",
    "movie_title_input = widgets.Text(\n",
    "    value=\"\",  # No default value\n",
    "    description=\"Enter Movie Title:\",\n",
    "    placeholder='Type here to search for movies...'\n",
    ")\n",
    "\n",
    "# Create an output widget to display the list of movie suggestions\n",
    "movie_suggestions_output = widgets.Output()\n",
    "\n",
    "def display_movie_suggestions(change):\n",
    "    # Update the movie suggestions whenever the text input changes\n",
    "    with movie_suggestions_output:\n",
    "        movie_suggestions_output.clear_output()\n",
    "        entered_title = change.new\n",
    "        if len(entered_title) >= 5:  # Trigger suggestions for titles with 5 or more characters\n",
    "            suggestions = get_movie_suggestions_with_ratings(entered_title, number_of_suggestions=5)\n",
    "            if isinstance(suggestions, list):\n",
    "                for movie in suggestions:\n",
    "                    print(movie)\n",
    "            else:\n",
    "                print(suggestions)\n",
    "\n",
    "# Set up an observer on the text input widget to call the above function when the value changes\n",
    "movie_title_input.observe(display_movie_suggestions, names='value')\n",
    "\n",
    "# Display the text input and movie suggestions output widgets\n",
    "display(movie_title_input, movie_suggestions_output)\n"
   ]
  },
  {
   "cell_type": "code",
   "execution_count": null,
   "id": "selected-respect",
   "metadata": {},
   "outputs": [],
   "source": []
  }
 ],
 "metadata": {
  "kernelspec": {
   "display_name": "Python 3",
   "language": "python",
   "name": "python3"
  },
  "language_info": {
   "codemirror_mode": {
    "name": "ipython",
    "version": 3
   },
   "file_extension": ".py",
   "mimetype": "text/x-python",
   "name": "python",
   "nbconvert_exporter": "python",
   "pygments_lexer": "ipython3",
   "version": "3.8.5"
  }
 },
 "nbformat": 4,
 "nbformat_minor": 5
}
