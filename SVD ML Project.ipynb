{
 "cells": [
  {
   "cell_type": "code",
   "execution_count": 1,
   "id": "5dfab592",
   "metadata": {
    "scrolled": true
   },
   "outputs": [],
   "source": [
    "import pandas as pd\n",
    "import numpy as np\n",
    "from sklearn.decomposition import TruncatedSVD\n",
    "from sklearn.feature_extraction.text import TfidfVectorizer\n",
    "from sklearn.metrics.pairwise import cosine_similarity"
   ]
  },
  {
   "cell_type": "code",
   "execution_count": 2,
   "id": "7312b7b1",
   "metadata": {},
   "outputs": [],
   "source": [
    "movies = pd.read_csv('movies_dataset.csv', lineterminator='\\n')\n",
    "title = movies['title'] "
   ]
  },
  {
   "cell_type": "code",
   "execution_count": 3,
   "id": "9e0c399d",
   "metadata": {
    "scrolled": true
   },
   "outputs": [],
   "source": [
    "vectorizer = TfidfVectorizer(ngram_range = (1,2))\n",
    "tfidf_matrix = vectorizer.fit_transform(title)"
   ]
  },
  {
   "cell_type": "code",
   "execution_count": 4,
   "id": "9c0d4734",
   "metadata": {
    "scrolled": true
   },
   "outputs": [],
   "source": [
    "svd = TruncatedSVD(n_components=20)\n",
    "latent_matrix = svd.fit_transform(tfidf_matrix)"
   ]
  },
  {
   "cell_type": "code",
   "execution_count": 5,
   "id": "7c3d64e1",
   "metadata": {},
   "outputs": [],
   "source": [
    "cosine_sim = cosine_similarity(latent_matrix, latent_matrix)"
   ]
  },
  {
   "cell_type": "code",
   "execution_count": 6,
   "id": "98342622",
   "metadata": {},
   "outputs": [],
   "source": [
    "def recommend_movies(movie_title, num_movies=5):\n",
    "    idx = movies.loc[movies['title'].str.lower() == movie_title.lower()].index[0]\n",
    "    sim_scores = list(enumerate(cosine_sim[idx]))\n",
    "    sim_scores = sorted(sim_scores, key=lambda x: x[1], reverse=True)\n",
    "    sim_scores = sim_scores[1:num_movies+1]\n",
    "    movie_indices = [i[0] for i in sim_scores]\n",
    "    return movies['title'].iloc[movie_indices]"
   ]
  },
  {
   "cell_type": "code",
   "execution_count": 7,
   "id": "2bd686c8",
   "metadata": {},
   "outputs": [],
   "source": [
    "def searching(title):\n",
    "    # Filter the dataset based on the title\n",
    "    results = movies[movies['title'].str.contains(title, case=False, na=False)]\n",
    "    \n",
    "    # Display the results\n",
    "    with movie_list:\n",
    "        if not results.empty:\n",
    "            display(HTML(results.to_html(index=False)))\n",
    "        else:\n",
    "            print(\"No matching movies found.\")"
   ]
  },
  {
   "cell_type": "code",
   "execution_count": 8,
   "id": "c3efd951",
   "metadata": {},
   "outputs": [
    {
     "data": {
      "application/vnd.jupyter.widget-view+json": {
       "model_id": "1d3473a640c047c49d61453f3408970b",
       "version_major": 2,
       "version_minor": 0
      },
      "text/plain": [
       "Text(value='Toy Story', description='Movie Title:')"
      ]
     },
     "metadata": {},
     "output_type": "display_data"
    },
    {
     "data": {
      "application/vnd.jupyter.widget-view+json": {
       "model_id": "7665d2b734e24b93af2594288e48b98c",
       "version_major": 2,
       "version_minor": 0
      },
      "text/plain": [
       "Output()"
      ]
     },
     "metadata": {},
     "output_type": "display_data"
    }
   ],
   "source": [
    "import ipywidgets as widgets\n",
    "from IPython.display import display\n",
    "from IPython.display import HTML\n",
    "\n",
    "movie_input = widgets.Text(\n",
    "    value = \"Toy Story\",\n",
    "    description = \"Movie Title:\"\n",
    ")\n",
    "movie_list = widgets.Output()\n",
    "\n",
    "def on_type(data):\n",
    "    with movie_list:\n",
    "        movie_list.clear_output()\n",
    "        title = data['new']\n",
    "        if len(title) > 1:\n",
    "            display(searching(title))\n",
    "movie_input.observe(on_type, names = 'value')\n",
    "display(movie_input, movie_list)"
   ]
  },
  {
   "cell_type": "code",
   "execution_count": null,
   "id": "afd423c4",
   "metadata": {},
   "outputs": [],
   "source": []
  }
 ],
 "metadata": {
  "kernelspec": {
   "display_name": "Python 3 (ipykernel)",
   "language": "python",
   "name": "python3"
  },
  "language_info": {
   "codemirror_mode": {
    "name": "ipython",
    "version": 3
   },
   "file_extension": ".py",
   "mimetype": "text/x-python",
   "name": "python",
   "nbconvert_exporter": "python",
   "pygments_lexer": "ipython3",
   "version": "3.11.4"
  }
 },
 "nbformat": 4,
 "nbformat_minor": 5
}
